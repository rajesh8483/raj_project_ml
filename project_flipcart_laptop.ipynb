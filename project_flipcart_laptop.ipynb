{
 "cells": [
  {
   "cell_type": "code",
   "execution_count": 2,
   "id": "8767adb4",
   "metadata": {},
   "outputs": [],
   "source": [
    "import pandas as pd"
   ]
  },
  {
   "cell_type": "code",
   "execution_count": null,
   "id": "28baaf27",
   "metadata": {},
   "outputs": [],
   "source": [
    "# Load the laptop review dataset\n",
    "from langchain_community.document_loaders.csv_loader import CSVLoader\n",
    "\n",
    "\n",
    "loader = CSVLoader(file_path=r'C:\\Users\\Admin\\Downloads\\flipcart_lapy_data.csv')\n",
    "docs = loader.load()"
   ]
  },
  {
   "cell_type": "code",
   "execution_count": null,
   "id": "a5a15abb",
   "metadata": {},
   "outputs": [
    {
     "data": {
      "text/plain": [
       "Document(metadata={'source': 'flipcart_lapy_data.csv', 'row': 0}, page_content='clean_name: DELL Vostro Intel Core i3 12th Gen 1215U\\nram_gb: 8.0\\nprocessor: Intel Core i3\\nos: Windows 11\\nstorage_gb: 512.0\\nDisplay Size: 15.6\\ncpu_brand: Intel\\nweight: 2.97\\nbattery_life: 5.2\\nprice: 42906\\nRating: Not found')"
      ]
     },
     "execution_count": 7,
     "metadata": {},
     "output_type": "execute_result"
    }
   ],
   "source": [
    "# Show the first document for inspection\n",
    "docs[0]"
   ]
  },
  {
   "cell_type": "code",
   "execution_count": null,
   "id": "70ed3139",
   "metadata": {},
   "outputs": [],
   "source": [
    "# Now, let's split the document into smaller chunks for better processing in vector stores\n",
    "from langchain_text_splitters import RecursiveCharacterTextSplitter\n",
    "\n",
    "\n",
    "splitter= RecursiveCharacterTextSplitter(\n",
    "    # Set a really small chunk size, just to show.\n",
    "    chunk_size=400,\n",
    "    chunk_overlap=50,\n",
    "    \n",
    ")\n",
    "# Split the documents into chunks\n",
    "chunks = splitter.split_documents(docs)"
   ]
  },
  {
   "cell_type": "code",
   "execution_count": 14,
   "id": "a774b483",
   "metadata": {},
   "outputs": [
    {
     "name": "stdout",
     "output_type": "stream",
     "text": [
      "page_content='clean_name: DELL Vostro Intel Core i3 12th Gen 1215U\n",
      "ram_gb: 8.0\n",
      "processor: Intel Core i3\n",
      "os: Windows 11\n",
      "storage_gb: 512.0\n",
      "Display Size: 15.6\n",
      "cpu_brand: Intel\n",
      "weight: 2.97\n",
      "battery_life: 5.2\n",
      "price: 42906\n",
      "Rating: Not found' metadata={'source': 'flipcart_lapy_data.csv', 'row': 0}\n"
     ]
    }
   ],
   "source": [
    "print(chunks[0])"
   ]
  },
  {
   "cell_type": "code",
   "execution_count": 13,
   "id": "4b94eb71",
   "metadata": {},
   "outputs": [
    {
     "data": {
      "text/plain": [
       "405"
      ]
     },
     "execution_count": 13,
     "metadata": {},
     "output_type": "execute_result"
    }
   ],
   "source": [
    "len(chunks)"
   ]
  },
  {
   "cell_type": "code",
   "execution_count": null,
   "id": "bea8b63c",
   "metadata": {},
   "outputs": [
    {
     "name": "stderr",
     "output_type": "stream",
     "text": [
      "C:\\Users\\Swami\\AppData\\Local\\Temp\\ipykernel_4276\\1931618161.py:5: LangChainDeprecationWarning: The class `HuggingFaceEmbeddings` was deprecated in LangChain 0.2.2 and will be removed in 1.0. An updated version of the class exists in the :class:`~langchain-huggingface package and should be used instead. To use it run `pip install -U :class:`~langchain-huggingface` and import as `from :class:`~langchain_huggingface import HuggingFaceEmbeddings``.\n",
      "  embedding_model = HuggingFaceEmbeddings(model_name=\"sentence-transformers/all-mpnet-base-v2\")\n",
      "d:\\vs code projects\\flipcart chatbot\\myvenv\\lib\\site-packages\\tqdm\\auto.py:21: TqdmWarning: IProgress not found. Please update jupyter and ipywidgets. See https://ipywidgets.readthedocs.io/en/stable/user_install.html\n",
      "  from .autonotebook import tqdm as notebook_tqdm\n",
      "d:\\vs code projects\\flipcart chatbot\\myvenv\\lib\\site-packages\\huggingface_hub\\file_download.py:144: UserWarning: `huggingface_hub` cache-system uses symlinks by default to efficiently store duplicated files but your machine does not support them in C:\\Users\\Swami\\.cache\\huggingface\\hub\\models--sentence-transformers--all-mpnet-base-v2. Caching files will still work but in a degraded version that might require more space on your disk. This warning can be disabled by setting the `HF_HUB_DISABLE_SYMLINKS_WARNING` environment variable. For more details, see https://huggingface.co/docs/huggingface_hub/how-to-cache#limitations.\n",
      "To support symlinks on Windows, you either need to activate Developer Mode or to run Python as an administrator. In order to activate developer mode, see this article: https://docs.microsoft.com/en-us/windows/apps/get-started/enable-your-device-for-development\n",
      "  warnings.warn(message)\n",
      "Xet Storage is enabled for this repo, but the 'hf_xet' package is not installed. Falling back to regular HTTP download. For better performance, install the package with: `pip install huggingface_hub[hf_xet]` or `pip install hf_xet`\n"
     ]
    }
   ],
   "source": [
    "# Load the embedding model that transforms text into vector representations\n",
    "from langchain.embeddings import HuggingFaceEmbeddings\n",
    "from langchain.vectorstores import FAISS\n",
    "\n",
    "# Load HuggingFace embedding model (all-mpnet-base-v2 is good for sentence embedding)\n",
    "embedding_model = HuggingFaceEmbeddings(model_name=\"sentence-transformers/all-mpnet-base-v2\")\n",
    "vectorstore = FAISS.from_documents(chunks, embedding_model)\n"
   ]
  },
  {
   "cell_type": "code",
   "execution_count": 16,
   "id": "4a706438",
   "metadata": {},
   "outputs": [
    {
     "name": "stdout",
     "output_type": "stream",
     "text": [
      "Text:\n",
      " clean_name: DELL Vostro Intel Core i3 12th Gen 1215U\n",
      "ram_gb: 8.0\n",
      "processor: Intel Core i3\n",
      "os: Windows 11\n",
      "storage_gb: 512.0\n",
      "Display Size: 15.6\n",
      "cpu_brand: Intel\n",
      "weight: 2.97\n",
      "battery_life: 5.2\n",
      "price: 42906\n",
      "Rating: Not found\n",
      "\n",
      "Embedding vector:\n",
      " [0.004206655081361532, -0.04477154463529587, -0.03329731523990631, -0.0240805484354496, 0.05304639786481857, 0.0072769541293382645, -0.010186158120632172, 0.03840754181146622, 0.0037796017713844776, 0.021179717034101486, -0.04282519593834877, -0.02007475309073925, 0.06284768134355545, 0.07243777811527252, -0.033634718507528305, 0.02828039415180683, 0.028207499533891678, 0.024956481531262398, 0.05109129473567009, 0.014025619253516197, -0.027566146105527878, -0.015269053168594837, 0.03617273271083832, -0.05679996311664581, -0.05151907354593277, -0.017150750383734703, 0.0273432694375515, -0.03674919158220291, 0.004967960063368082, -0.03840804100036621, 0.027146147564053535, -0.03952664136886597, -0.026141680777072906, 0.009206000715494156, 1.6946338519119308e-06, -0.04551967233419418, -0.03066905401647091, -0.019371451810002327, -0.005125345662236214, -0.005216238088905811, 0.017387084662914276, 0.018745729699730873, -0.0333298034965992, 0.006354421377182007, -0.033297114074230194, -0.046120546758174896, -0.04499199241399765, 0.08664041757583618, -0.003209255402907729, 0.07964291423559189, 0.017132708802819252, 0.047150786966085434, 0.0652298629283905, -0.029274949803948402, 0.06052841991186142, -0.011952071450650692, -0.02984396368265152, 0.025580644607543945, 0.028233228251338005, 0.025063378736376762, 0.02082611620426178, 0.028910165652632713, -0.0018058217829093337, 0.046875398606061935, -0.05063183605670929, -0.0031792782247066498, 0.08825428783893585, -0.020445486530661583, 0.07686401158571243, -0.032606665045022964, 0.03193795308470726, 0.060265958309173584, 0.012549642473459244, 0.045247696340084076, -0.04098009318113327, -0.0631117969751358, -0.0022766527254134417, 0.06274653971195221, -0.031522516161203384, 0.004477589391171932, -0.03301704674959183, 0.0070825438015162945, 0.07678331434726715, -0.05374455079436302, 0.030370883643627167, 0.07711496949195862, -0.019989650696516037, 0.0020245080813765526, -0.041371073573827744, -0.06829071044921875, -0.013781965710222721, 0.015500618144869804, 0.014388155192136765, 0.0008817912894301116, -0.0666821151971817, -0.04178022965788841, -0.03138192743062973, -0.07506190985441208, -0.018292559310793877, -0.0020914627239108086, -0.011302853003144264, -0.03844919055700302, 0.054359182715415955, -0.02012948878109455, -0.01734771952033043, 0.03410368785262108, 0.03400535136461258, -0.005265913903713226, -0.06091255322098732, 0.05106326937675476, 0.03500847518444061, -0.03934231400489807, -0.05017919838428497, -0.007271707523614168, -0.021174414083361626, 0.02621016465127468, 0.007174261379987001, -0.0008791825966909528, -0.07174654304981232, -0.006509661674499512, 0.03859240934252739, 0.02481282688677311, 0.043191004544496536, 0.02109670266509056, -0.02790173701941967, -0.012278945185244083, 0.020219793543219566, -0.025179941207170486, -0.04797811061143875, -0.02871755324304104, 0.04042227193713188, 0.0007888159598223865, 0.02249688282608986, -0.020759932696819305, 0.017235470935702324, 0.03995190188288689, 0.02149847336113453, -0.013796615414321423, -0.010830431245267391, 0.0062441653572022915, 0.03899823874235153, -0.056695517152547836, -0.03544893115758896, -0.0008850331651046872, -0.005335971247404814, -0.0001458042679587379, 0.014821086078882217, -0.006928619462996721, 0.008917535655200481, 0.046601664274930954, -0.050687115639448166, -0.02660234272480011, -0.06140667200088501, 0.02932344377040863, 0.02288895659148693, -0.003885087091475725, 0.017584331333637238, -0.06074216961860657, -0.008756514638662338, 0.06054292991757393, 0.016175488010048866, 0.01706170290708542, 0.007851378060877323, 0.016729386523365974, 0.013122478500008583, -0.0018950457451865077, 0.024876030161976814, -0.039567768573760986, -0.08536937832832336, -0.025065189227461815, 0.021710772067308426, 0.0066455332562327385, 0.040693894028663635, 0.07993163913488388, 0.003096626838669181, -0.004645760171115398, 0.03782404959201813, -0.017617160454392433, -0.10441242158412933, 0.0009751564939506352, -0.014249441213905811, -0.11156083643436432, -0.02781996689736843, 0.0011694005224853754, -0.011895924806594849, 0.009330730885267258, 0.028641268610954285, 0.009678434580564499, -0.01496680174022913, -0.01891736499965191, -0.017483791336417198, 0.0016606968129053712, 0.02248106710612774, 0.011471282690763474, 0.017044126987457275, 0.005056674126535654, -0.009283018298447132, -0.004669866058975458, -0.0035260464064776897, 0.05994952842593193, -0.013842551968991756, -0.06464534252882004, 0.15481577813625336, 0.029702547937631607, 0.0036437013186514378, -0.012031837366521358, 0.03181691840291023, 0.0464344248175621, 0.0009471108787693083, -0.06454262137413025, -0.0016780142905190587, -0.04074414446949959, -0.03577563911676407, -0.0036308527924120426, -0.03146348148584366, 0.012319005094468594, 0.0013807787327095866, 0.0012891135411337018, 0.015706215053796768, 0.002576021943241358, 0.051885880529880524, -0.03760403394699097, -0.012780343182384968, -0.028750469908118248, 0.044844698160886765, 0.006890943739563227, 0.035294193774461746, -0.016482098028063774, -0.03114834427833557, -0.05405774712562561, 0.048617247492074966, 0.015627067536115646, 0.025225739926099777, -0.003711967496201396, -0.010786935687065125, -0.008596621453762054, -0.007738708984106779, -0.06005094572901726, -0.009678434580564499, -0.010350060649216175, 0.0005095915985293686, 0.01473924145102501, 0.045662786811590195, -0.010250251740217209, 0.018407220020890236, -0.0890808030962944, -0.06219135969877243, 0.0037948235403746367, -0.0016514116432517767, -0.01756223477423191, 0.054006144404411316, -0.00771198607981205, 0.01827024668455124, 0.023973478004336357, -0.005981896072626114, 0.015334876254200935, -0.0008123117731884122, -0.026892904192209244, -0.02664690650999546, -0.05640735477209091, 0.0017958938842639327, -0.032240863889455795, 0.023048145696520805, -0.005835117306560278, 0.02986062318086624, 0.027073705568909645, 0.04334330931305885, -0.04166629537940025, 0.04929301515221596, -0.014323459006845951, -0.04541611298918724, 0.013327506370842457, 0.07381723821163177, 0.006493005435913801, 0.016434840857982635, -0.030138680711388588, -0.0171833336353302, 0.054252125322818756, 0.005982421338558197, -0.03474536910653114, 0.038613732904195786, 0.006339485291391611, 0.030318759381771088, -0.0005191196105442941, -0.02241286262869835, -0.008259288035333157, -0.010625060647726059, 0.024672899395227432, -0.004341017454862595, 0.021854452788829803, 0.041100867092609406, 0.01000085286796093, 0.020187560468912125, -0.06001146137714386, -0.028363263234496117, 0.0374864898622036, -0.006155384238809347, -0.00799070205539465, -0.004302359186112881, 0.010575084947049618, 0.013116152957081795, 0.023133687674999237, 0.003610588377341628, -0.009369121864438057, 0.04325459897518158, 0.02318447455763817, 0.044518325477838516, -0.03861110284924507, 0.022628046572208405, -0.029788905754685402, 0.021546490490436554, 0.013203094713389874, -0.02630597911775112, 0.011347412131726742, 0.011916902847588062, 0.025685323402285576, 0.0029135795775800943, 0.08090680092573166, 0.012706399895250797, 0.1073392778635025, -0.025897648185491562, -0.04608225077390671, -0.0024760582018643618, 0.05472948029637337, 0.03562678396701813, -0.028508052229881287, -0.02738841250538826, 0.03377852588891983, -0.037530865520238876, 0.0024566210340708494, 0.015954535454511642, -0.05195373669266701, -0.023183612152934074, 0.050578512251377106, 0.014396967366337776, -0.0012299004010856152, -0.004908163566142321, 0.051505196839571, 0.030822979286313057, 0.0016545234248042107, 0.024355772882699966, 0.06690650433301926, 0.029501570388674736, -0.024332066997885704, 0.007604497019201517, -0.03524789959192276, 0.036290157586336136, -0.02763279713690281, -0.06883255392313004, 0.03174193948507309, -0.02110329270362854, 0.04456784203648567, -0.005660447757691145, 0.010681306943297386, 0.004790579434484243, -0.012124931439757347, 0.0035693959798663855, -0.0017399381613358855, -0.010250908322632313, -0.00782554131001234, 0.04856187850236893, 0.0200246162712574, 0.036674339324235916, 0.020977988839149475, -0.0274287648499012, 0.025111787021160126, 0.0058618392795324326, -0.00804335530847311, -0.05045388266444206, -0.04970833659172058, -0.06208205595612526, -0.004909442737698555, -0.0028808366041630507, 0.05253181979060173, -0.02091168239712715, 0.05103035643696785, 0.009892535395920277, -0.015561597421765327, -0.06902477890253067, -0.004293952602893114, -0.03501773998141289, 0.04982228949666023, 0.023563668131828308, 0.020269017666578293, 0.013733063824474812, 0.012864697724580765, 0.04017925262451172, -0.008357066661119461, 0.032702524214982986, -0.094159796833992, 0.02210879884660244, 0.03270139545202255, -0.05446431413292885, 0.003187124617397785, 0.004259441513568163, -0.05241544917225838, 0.029649855569005013, -0.04674110561609268, -0.012996475212275982, 0.023345110937952995, -0.05023912712931633, 0.031161069869995117, 0.013768778182566166, 0.08994820713996887, -0.02082826755940914, -0.026918748393654823, 0.08967035263776779, -0.017579002305865288, -0.05947466939687729, -0.020416783168911934, 0.030002674087882042, 0.07045856863260269, 0.0046691689640283585, 0.031552936881780624, 0.03078536130487919, -0.019310157746076584, -0.013323587365448475, 0.0026200644206255674, -0.039976879954338074, -0.04625845327973366, -0.053583625704050064, 0.01814037561416626, 0.04733871668577194, 0.07827353477478027, 0.017096545547246933, 0.000318271602736786, -0.02580210007727146, -0.035611823201179504, 0.011778214015066624, -0.05321232229471207, -0.008340634405612946, 0.023759424686431885, 0.06331099569797516, 0.003609218169003725, 0.04962591081857681, -0.03139810264110565, 0.09869673103094101, 0.014309062622487545, -0.03125157579779625, 0.02560228668153286, -0.02472510188817978, -0.007914437912404537, 0.03567109629511833, 0.043711017817258835, -0.0319846048951149, -0.013161690905690193, -0.020454317331314087, -0.00444060331210494, 0.00801038183271885, 0.0314326174557209, 0.049625106155872345, -0.0669015496969223, 0.03361125662922859, -0.04589783772826195, -0.0035512992180883884, 0.0023154986556619406, -0.021904999390244484, 0.02091047912836075, 0.0004904770758002996, -0.05096115171909332, 0.027651874348521233, 0.03009631112217903, -0.02946462668478489, -0.04885821416974068, 0.015564042143523693, -0.07808182388544083, -0.021461011841893196, 0.0033216378651559353, 0.03223055228590965, -0.014425666071474552, 0.01655668579041958, 0.0008681050385348499, 0.03361526131629944, 0.05694988742470741, 0.004799544345587492, -0.05556006729602814, -0.020894069224596024, 0.022528380155563354, -0.05373925343155861, -0.014854955486953259, 0.05607225000858307, 0.03277095779776573, 0.008848845027387142, -0.07820476591587067, -0.011051572859287262, -0.05466778948903084, 0.038720984011888504, 0.003972269129008055, 0.011865206994116306, 0.030208522453904152, 0.01632302813231945, 0.01890089362859726, -0.05866556987166405, -0.03559749573469162, 0.04127076640725136, -0.03278148174285889, -0.005393860395997763, -0.058988332748413086, -0.006026529707014561, -0.04385069012641907, 0.03272248059511185, -0.0373319610953331, 0.03696407377719879, 0.016275959089398384, 0.011175412684679031, -0.028540698811411858, -0.008973982185125351, -0.07882054895162582, -0.02053726464509964, -0.04603129252791405, -0.040107786655426025, 0.06736443191766739, 0.011786777526140213, -0.02159402333199978, 0.003906507510691881, 0.07509203255176544, -0.03382991999387741, -0.03897590562701225, -0.006316523067653179, -0.0013439608737826347, 0.05458320677280426, -0.024497006088495255, -0.05257699638605118, -0.01090154331177473, -0.032347436994314194, 0.03318554908037186, 0.048148419708013535, -0.012659884057939053, 0.05590517073869705, 0.02392706461250782, 0.009993784129619598, 0.046386364847421646, 0.004149485845118761, -0.018111109733581543, -0.03893125429749489, 0.11304455250501633, -0.05219564214348793, 0.0181272029876709, 0.002526545664295554, 0.017129352316260338, 0.04124371334910393, -0.021835478022694588, 0.07617438584566116, 0.031132204458117485, 0.012851985171437263, 0.004864839371293783, -0.004705976694822311, 0.009846523404121399, -0.014372263103723526, -0.015982894226908684, 0.001982505200430751, -0.04831840470433235, -0.053448960185050964, 0.08340233564376831, -0.020701579749584198, -4.86201030623605e-33, -0.01656421646475792, -0.03836486488580704, -0.019014114513993263, 0.015710722655057907, -0.03643244877457619, -0.011961687356233597, 0.04145186394453049, -0.016617584973573685, -0.02700704336166382, 0.010133936069905758, -0.03942748159170151, -0.01959965005517006, -0.000810721016023308, 0.04218178242444992, -0.022584272548556328, 0.003848189488053322, 0.04771745949983597, 0.0315682627260685, -0.019915230572223663, -0.02469916269183159, -0.004420595243573189, -0.007114667445421219, -0.0006286002462729812, 0.014736493118107319, -0.04545334354043007, -0.033406663686037064, -0.032770413905382156, 0.03300816938281059, 0.007884704507887363, 0.013391340151429176, -0.03295900672674179, 0.03539909049868584, 0.01780078560113907, -0.005463339388370514, -0.012287076562643051, 0.006917142309248447, -0.0054367464035749435, -0.01920999027788639, 0.008810977451503277, 0.07202243059873581, 0.016052981838583946, -0.029902590438723564, -0.012675827369093895, -0.031078457832336426, -0.004398912191390991, 0.006187066435813904, 0.05730528011918068, -0.10086521506309509, 0.014619166031479836, -0.03325284272432327, -0.008670265786349773, 0.004357744939625263, 0.017857903614640236, -0.009634796530008316, -0.007824212312698364, 0.028679439797997475, 0.019856063649058342, 0.012028014287352562, -0.06169750913977623, -0.04499804601073265, -0.024360178038477898, 0.041891761124134064, 0.0341557115316391, 0.0237900298088789, -0.012973333708941936, -0.0006621371139772236, 0.00581146078184247, -0.02270400896668434, 0.021978219971060753, -0.003197107696905732, 0.012317657470703125, 0.026021774858236313, -0.08248215168714523, 0.034976135939359665, -0.00023792634601704776, -0.07543668895959854, -0.019291212782263756, -0.00973932072520256, -0.04278149455785751, 0.0315994955599308, 0.017682800069451332, -0.03744128346443176, 0.004414401017129421, -0.043455205857753754, -0.024245822802186012, -0.01257273368537426, -0.023520655930042267, -0.07545467466115952, -0.009062310680747032, 0.03680295869708061, 0.009115648455917835, 0.04384276643395424, -0.058966126292943954, -0.02254079468548298, 0.010617952793836594, -0.007124317344278097, 0.03469346836209297, -0.0021438414696604013, -0.05508296191692352, -0.011283834464848042, 0.037373099476099014, -0.02770477533340454, -0.00576922670006752, 0.07888399064540863, -0.009310061112046242, 0.020444102585315704, 0.003438113257288933, 0.0020468279253691435, -0.02014515921473503, -0.03086751513183117, -0.027815556153655052, 0.004504733253270388, -0.024361463263630867, 0.051734376698732376, -0.026083189994096756, 0.02190670743584633, -0.025282470509409904, 0.010543718934059143, -0.004435089882463217, 0.0029854075983166695, -0.02948611043393612, -0.01397786196321249, -0.016841594129800797, 0.0027637677267193794, -0.0276079922914505, 0.003951893653720617, -0.06651142984628677, -0.07414703071117401, -0.056282348930835724, -0.0019000015454366803, 0.011874453164637089, 0.050686780363321304, 2.565850536484504e-07, -0.07976363599300385, -0.033567920327186584, -0.02909134328365326, -0.10957107692956924, -0.03513115271925926, 0.03762281686067581, -0.04311409965157509, -0.04656309634447098, 0.03810715302824974, -0.05765756592154503, -0.01956515945494175, 0.003184502711519599, -0.0007348950020968914, -0.013191567733883858, 0.008975223638117313, -0.021592237055301666, 0.029276881366968155, -0.006743175443261862, 0.04394445940852165, 0.0010623125126585364, 0.03176819533109665, 0.0435616597533226, 0.05560337007045746, 0.0016222629928961396, 0.008888637647032738, -0.002865848131477833, -0.04473837837576866, -0.043143510818481445, -0.07745716720819473, 0.002539465669542551, 0.014177672564983368, 0.02923637069761753, 0.006263487972319126, 0.027584822848439217, 0.030750103294849396, 0.011577535420656204, 0.027970269322395325, 0.04595627635717392, 0.04620295390486717, 0.009899720549583435, -0.0001778320875018835, -0.030988827347755432, -0.03092457726597786, 0.026804855093359947, 0.03793589025735855, 0.0727616623044014, -0.03641635552048683, -0.043489113450050354, -0.02764650247991085, -0.02138384059071541, -0.01724870130419731, 0.008287422358989716, 0.016317244619131088, 0.02842918038368225, 0.007764152716845274, -0.04461351037025452, -0.01928408071398735, 0.015069790184497833, -0.031290531158447266, 0.029789378866553307, -0.030850660055875778, -0.084895558655262, 0.03600652143359184, 0.07121830433607101, 0.07551399618387222, -0.006300752516835928, 0.02691088244318962, 2.360954000921419e-34, 0.05929829180240631, -0.007849222980439663, 0.034301988780498505, -0.03784943372011185, 0.017420979216694832, 0.020292995497584343, 0.047645602375268936, -0.03361944854259491, 0.0138156833127141, -0.06224898621439934, -0.014137104153633118]\n",
      "\n",
      "First 10 values:\n",
      " [0.004206655081361532, -0.04477154463529587, -0.03329731523990631, -0.0240805484354496, 0.05304639786481857, 0.0072769541293382645, -0.010186158120632172, 0.03840754181146622, 0.0037796017713844776, 0.021179717034101486]\n"
     ]
    }
   ],
   "source": [
    "text = chunks[0].page_content\n",
    "print(\"Text:\\n\", text)  \n",
    "\n",
    "# Get embedding vector for this text\n",
    "embedding_vector = embedding_model.embed_query(text)\n",
    "\n",
    "# Show embedding\n",
    "print(\"\\nEmbedding vector:\\n\", embedding_vector)\n",
    "\n",
    "# Optional: Just show first 10 numbers to keep it short\n",
    "print(\"\\nFirst 10 values:\\n\", embedding_vector[:10])\n"
   ]
  },
  {
   "cell_type": "code",
   "execution_count": null,
   "id": "00ca2386",
   "metadata": {},
   "outputs": [
    {
     "data": {
      "text/plain": [
       "'clean_name: MSI Thin 15 Intel Core i5 12th Gen 12450H\\nram_gb: 16.0\\nprocessor: Intel Core i5\\nos: Windows 11\\nstorage_gb: 512.0\\nDisplay Size: 15.6\\ncpu_brand: Intel\\nweight: 1.84\\nbattery_life: 7.6\\nprice: 54990\\nRating: 4.4'"
      ]
     },
     "execution_count": 18,
     "metadata": {},
     "output_type": "execute_result"
    }
   ],
   "source": [
    "# Test a query to perform similarity search on the vector store\n",
    "query=\"i want a budget laptop for remote work with good batery life and i5\"\n",
    "result=vectorstore.similarity_search(query)\n",
    "result[0].page_content"
   ]
  },
  {
   "cell_type": "code",
   "execution_count": null,
   "id": "1d90d9ce",
   "metadata": {},
   "outputs": [],
   "source": [
    "# Create a chain that uses the LLM to refine queries and answer based on retrieved results\n",
    "from langchain.chains import LLMChain, RetrievalQA\n",
    "from langchain.chains import create_retrieval_chain\n",
    "from langchain.prompts import PromptTemplate\n",
    "from langchain.llms import Ollama\n",
    "from langchain.prompts import ChatPromptTemplate\n",
    "from langchain_core.documents import Document\n",
    "from langchain_core.output_parsers import StrOutputParser\n",
    "from langchain_core.prompts import ChatPromptTemplate\n",
    "from langchain_core.output_parsers import StrOutputParser\n",
    "from langchain_core.runnables import RunnablePassthrough\n"
   ]
  },
  {
   "cell_type": "code",
   "execution_count": 26,
   "id": "e3d14a0f",
   "metadata": {},
   "outputs": [],
   "source": [
    "retriever = vectorstore.as_retriever(search_kwargs={\"k\": 4})\n"
   ]
  },
  {
   "cell_type": "code",
   "execution_count": 20,
   "id": "af46cbc5",
   "metadata": {},
   "outputs": [
    {
     "name": "stderr",
     "output_type": "stream",
     "text": [
      "C:\\Users\\Swami\\AppData\\Local\\Temp\\ipykernel_4276\\2786610211.py:1: LangChainDeprecationWarning: The class `Ollama` was deprecated in LangChain 0.3.1 and will be removed in 1.0.0. An updated version of the class exists in the :class:`~langchain-ollama package and should be used instead. To use it run `pip install -U :class:`~langchain-ollama` and import as `from :class:`~langchain_ollama import OllamaLLM``.\n",
      "  llm = Ollama(model=\"llama3\")\n"
     ]
    }
   ],
   "source": [
    "llm = Ollama(model=\"llama3\")"
   ]
  },
  {
   "cell_type": "code",
   "execution_count": 51,
   "id": "c25a417d",
   "metadata": {},
   "outputs": [],
   "source": [
    "# template = \"\"\"Answer the question based only on the following context:\n",
    "\n",
    "# {context}\n",
    "\n",
    "# Question: {question}\n",
    "# \"\"\"\n",
    "# prompt = ChatPromptTemplate.from_template(template)\n",
    "\n",
    "template = \"\"\"You are a laptop shopping assistant.\n",
    "Understand the user request and rewrite it as a clear filter-based requirement for searching laptops.\n",
    "Always display prices in Indian Rupees (₹), not in USD or any other currency.\n",
    "\n",
    "User query: {query}\n",
    "Refined requirement:\"\"\"\n"
   ]
  },
  {
   "cell_type": "code",
   "execution_count": 52,
   "id": "ebe5b81a",
   "metadata": {},
   "outputs": [],
   "source": [
    "prompt = PromptTemplate(input_variables=[\"question\"], template=template)\n",
    "query_chain = LLMChain(llm=llm, prompt=prompt)"
   ]
  },
  {
   "cell_type": "code",
   "execution_count": 53,
   "id": "45ee41ca",
   "metadata": {},
   "outputs": [
    {
     "name": "stdout",
     "output_type": "stream",
     "text": [
      "Refined Query: Based on your request, I've refined the requirement to help you find the perfect budget-friendly laptop for remote work. Here's what I've come up with:\n",
      "\n",
      "**Filter-based requirements:**\n",
      "\n",
      "1. **Price:** ₹30,000 - ₹50,000 (Budget-friendly options)\n",
      "2. **Processor:** Intel Core i3 or AMD Ryzen 3 (Sufficient processing power for basic tasks like email, word processing, and video conferencing)\n",
      "3. **RAM:** 4 GB - 8 GB (Adequate memory for multiple applications to run simultaneously)\n",
      "4. **Storage:** 256 GB - 512 GB SSD (Fast storage for efficient file access and loading times)\n",
      "5. **Display:** 11.6 inches - 14 inches (Portable and suitable for remote work)\n",
      "6. **Graphics:** Integrated graphics (No heavy gaming requirements, so integrated graphics should suffice)\n",
      "7. **Operating System:** Windows 10 or Chrome OS (Popular choices for general productivity tasks)\n",
      "\n",
      "These filters will help me narrow down the options to find a budget laptop that meets your needs for remote work. Let's get started on our search!\n"
     ]
    }
   ],
   "source": [
    "user_input = \"I want a budget laptop for remote work\"\n",
    "refined_query = query_chain.run(user_input)\n",
    "print(\"Refined Query:\", refined_query)"
   ]
  },
  {
   "cell_type": "code",
   "execution_count": 46,
   "id": "9157ca12",
   "metadata": {},
   "outputs": [],
   "source": [
    "retriever = vectorstore.as_retriever(search_kwargs={\"k\": 3})\n"
   ]
  },
  {
   "cell_type": "code",
   "execution_count": 47,
   "id": "aa4c6719",
   "metadata": {},
   "outputs": [],
   "source": [
    "rag_chain = RetrievalQA.from_chain_type(llm=llm, retriever=retriever)\n",
    "response = rag_chain.run(refined_query)"
   ]
  },
  {
   "cell_type": "code",
   "execution_count": 48,
   "id": "4b9730a3",
   "metadata": {},
   "outputs": [
    {
     "name": "stdout",
     "output_type": "stream",
     "text": [
      "\n",
      "RAG Response:\n",
      " Based on the provided information, it seems like you're looking for a budget laptop that meets specific criteria for remote work. Unfortunately, none of the laptops listed meet all the requirements. However, I can try to help you identify some possible options.\n",
      "\n",
      "The HP laptop has a price tag of $46,390, which is well above your budget of less than $400. The MSI Thin 15 Intel Core i5 12th Gen laptops have prices ranging from $50,990 to $54,990, also exceeding the budget.\n",
      "\n",
      "To find a suitable option within your budget, you may want to consider looking at other laptop models or brands that meet the specified requirements. You can try searching online marketplaces, retail stores, or manufacturer websites for options that fit your criteria.\n",
      "\n",
      "Keep in mind that meeting all the requirements simultaneously might be challenging within a budget of less than $400. You might need to prioritize certain features and compromise on others to find an affordable option.\n",
      "\n",
      "If you'd like me to help with that process or provide more general information about laptops, please let me know!\n"
     ]
    }
   ],
   "source": [
    "print(\"\\nRAG Response:\\n\", response)"
   ]
  },
  {
   "cell_type": "code",
   "execution_count": 54,
   "id": "83ee137a",
   "metadata": {},
   "outputs": [],
   "source": [
    "from langchain.memory import ConversationBufferMemory\n",
    "\n",
    "memory = ConversationBufferMemory(memory_key=\"chat_history\", return_messages=True)"
   ]
  },
  {
   "cell_type": "code",
   "execution_count": 57,
   "id": "b30df48b",
   "metadata": {},
   "outputs": [],
   "source": [
    "from langchain.agents import Tool\n",
    "search_tool = Tool(\n",
    "    name=\"LaptopSearch\",\n",
    "    func=lambda query: rag_chain.run(query),\n",
    "    description=\"Useful for answering questions about laptop features, brands, budgets, etc.\"\n",
    ")\n",
    "\n",
    "\n",
    "from langchain.agents import initialize_agent, AgentType\n",
    "\n",
    "agent_executor = initialize_agent(\n",
    "    tools=[search_tool],\n",
    "    llm=llm,\n",
    "    agent=AgentType.CONVERSATIONAL_REACT_DESCRIPTION,\n",
    "    memory=memory,\n",
    "    verbose=True\n",
    ")"
   ]
  },
  {
   "cell_type": "code",
   "execution_count": 58,
   "id": "7b04e28b",
   "metadata": {},
   "outputs": [
    {
     "name": "stdout",
     "output_type": "stream",
     "text": [
      "\n",
      "\n",
      "\u001b[1m> Entering new AgentExecutor chain...\u001b[0m\n",
      "\u001b[32;1m\u001b[1;3mThought: Do I need to use a tool? Yes\n",
      "Action: LaptopSearch\n",
      "Action Input: \"Show me Dell laptops under ₹50000\"\u001b[0m\n",
      "Observation: \u001b[36;1m\u001b[1;3mBased on the provided context, I can help you with that!\n",
      "\n",
      "The first two DELL laptops have prices below ₹50000:\n",
      "\n",
      "* clean_name: DELL Intel Core i5 12th Gen 1235U - price: 44990\n",
      "* clean_name: DELL 15 Intel Core i5 13th Gen 1334U - price: 49750\n",
      "\n",
      "These two laptops meet the condition of being under ₹50000.\u001b[0m\n",
      "Thought:\u001b[32;1m\u001b[1;3mThought: Do I need to use a tool? No\n",
      "AI: It looks like you're interested in Dell laptops under ₹50000. Based on my search results, I found two options that fit your budget. The DELL Intel Core i5 12th Gen 1235U is priced at ₹44,990, and the DELL 15 Intel Core i5 13th Gen 1334U is priced at ₹49,750. Both of these laptops meet your condition of being under ₹50000. Would you like me to provide more information about these laptops or help with a different query?\u001b[0m\n",
      "\n",
      "\u001b[1m> Finished chain.\u001b[0m\n",
      "It looks like you're interested in Dell laptops under ₹50000. Based on my search results, I found two options that fit your budget. The DELL Intel Core i5 12th Gen 1235U is priced at ₹44,990, and the DELL 15 Intel Core i5 13th Gen 1334U is priced at ₹49,750. Both of these laptops meet your condition of being under ₹50000. Would you like me to provide more information about these laptops or help with a different query?\n",
      "\n",
      "\n",
      "\u001b[1m> Entering new AgentExecutor chain...\u001b[0m\n",
      "\u001b[32;1m\u001b[1;3mThought: Do I need to use a tool? No\n",
      "AI: Given that you only want i5 models, I can refine the search for you. Based on my previous search results, I found two i5-powered Dell laptops under ₹50000. The DELL Intel Core i5 12th Gen 1235U is priced at ₹44,990, and the DELL XPS 13 Plus Intel Core i5 1244U is priced at ₹49,490. Both of these laptops meet your condition of being under ₹50000 and having an i5 processor. Would you like me to provide more information about these laptops or help with a different query?\u001b[0m\n",
      "\n",
      "\u001b[1m> Finished chain.\u001b[0m\n",
      "Given that you only want i5 models, I can refine the search for you. Based on my previous search results, I found two i5-powered Dell laptops under ₹50000. The DELL Intel Core i5 12th Gen 1235U is priced at ₹44,990, and the DELL XPS 13 Plus Intel Core i5 1244U is priced at ₹49,490. Both of these laptops meet your condition of being under ₹50000 and having an i5 processor. Would you like me to provide more information about these laptops or help with a different query?\n"
     ]
    }
   ],
   "source": [
    "response = agent_executor.run(\"Show me Dell laptops under ₹50000\")\n",
    "print(response)\n",
    "\n",
    "# Later...\n",
    "followup = agent_executor.run(\"Only i5 models please\")\n",
    "print(followup)"
   ]
  },
  {
   "cell_type": "code",
   "execution_count": 60,
   "id": "1d9a72de",
   "metadata": {},
   "outputs": [
    {
     "name": "stdout",
     "output_type": "stream",
     "text": [
      "HUMAN: Show me Dell laptops under ₹50000\n",
      "AI: It looks like you're interested in Dell laptops under ₹50000. Based on my search results, I found two options that fit your budget. The DELL Intel Core i5 12th Gen 1235U is priced at ₹44,990, and the DELL 15 Intel Core i5 13th Gen 1334U is priced at ₹49,750. Both of these laptops meet your condition of being under ₹50000. Would you like me to provide more information about these laptops or help with a different query?\n",
      "HUMAN: Only i5 models please\n",
      "AI: Given that you only want i5 models, I can refine the search for you. Based on my previous search results, I found two i5-powered Dell laptops under ₹50000. The DELL Intel Core i5 12th Gen 1235U is priced at ₹44,990, and the DELL XPS 13 Plus Intel Core i5 1244U is priced at ₹49,490. Both of these laptops meet your condition of being under ₹50000 and having an i5 processor. Would you like me to provide more information about these laptops or help with a different query?\n"
     ]
    }
   ],
   "source": [
    "# View history\n",
    "for msg in memory.load_memory_variables({})[\"chat_history\"]:\n",
    "    print(f\"{msg.type.upper()}: {msg.content}\")\n",
    "\n",
    "# # Or save to a file\n",
    "# with open(\"chat_history.txt\", \"w\") as f:\n",
    "#     for msg in memory.load_memory_variables({})[\"chat_history\"]:\n",
    "#         f.write(f\"{msg.type.upper()}: {msg.content}\\n\")\n"
   ]
  },
  {
   "cell_type": "code",
   "execution_count": null,
   "id": "b676b63c",
   "metadata": {},
   "outputs": [],
   "source": []
  }
 ],
 "metadata": {
  "kernelspec": {
   "display_name": "myvenv",
   "language": "python",
   "name": "python3"
  },
  "language_info": {
   "codemirror_mode": {
    "name": "ipython",
    "version": 3
   },
   "file_extension": ".py",
   "mimetype": "text/x-python",
   "name": "python",
   "nbconvert_exporter": "python",
   "pygments_lexer": "ipython3",
   "version": "3.10.0"
  }
 },
 "nbformat": 4,
 "nbformat_minor": 5
}
